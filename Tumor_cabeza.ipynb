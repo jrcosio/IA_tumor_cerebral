{
 "cells": [
  {
   "cell_type": "code",
   "execution_count": null,
   "metadata": {},
   "outputs": [],
   "source": [
    "from tensorflow import keras\n",
    "from PIL import Image\n",
    "from tensorflow.keras.preprocessing.image import load_img, img_to_array\n",
    "import numpy as np\n",
    "import pandas as pd\n",
    "import matplotlib.pyplot as plt\n",
    "import os\n",
    "\n",
    "RESOLUTION_WIDTH = 224\n",
    "RESOLUTION_HEIGHT = 224"
   ]
  },
  {
   "cell_type": "code",
   "execution_count": null,
   "metadata": {},
   "outputs": [],
   "source": [
    "from tensorflow.python.client import device_lib\n",
    "print(device_lib.list_local_devices())"
   ]
  },
  {
   "cell_type": "markdown",
   "metadata": {},
   "source": [
    "Funciones para la imagenes Cargar y Mezclar"
   ]
  },
  {
   "cell_type": "code",
   "execution_count": null,
   "metadata": {},
   "outputs": [],
   "source": [
    "def cargar_imagenes(ruta, target_size=(RESOLUTION_WIDTH, RESOLUTION_HEIGHT)):\n",
    "    X = []\n",
    "    y = []\n",
    "    for folder in os.listdir(ruta):\n",
    "        for file in os.listdir(os.path.join(ruta, folder)):\n",
    "                img = load_img(os.path.join(ruta, folder, file), target_size=target_size, color_mode='grayscale')\n",
    "                img = img_to_array(img)\n",
    "                X.append(img)\n",
    "                y.append(0 if folder == 'no' else 1)\n",
    "      \n",
    "    return np.array(X), np.array(y)\n",
    "\n",
    "def mezclar_dataset(X, y, semilla=0):\n",
    "    indices = np.arange(X.shape[0])\n",
    "    np.random.seed(semilla)\n",
    "    np.random.shuffle(indices)\n",
    "    return X[indices], y[indices]"
   ]
  },
  {
   "cell_type": "code",
   "execution_count": null,
   "metadata": {},
   "outputs": [],
   "source": [
    "X_train, y_train = cargar_imagenes('data_2/dataset/train')\n",
    "X_val, y_val = cargar_imagenes('data_2/dataset/valid')\n",
    "X_test, y_test = cargar_imagenes('data_2/dataset/test')"
   ]
  },
  {
   "cell_type": "code",
   "execution_count": null,
   "metadata": {},
   "outputs": [],
   "source": [
    "print(X_train.shape, X_val.shape, X_test.shape)\n",
    "print(y_train.shape, y_val.shape, y_test.shape)"
   ]
  },
  {
   "cell_type": "code",
   "execution_count": null,
   "metadata": {},
   "outputs": [],
   "source": [
    "X_train, y_train = mezclar_dataset(X_train, y_train)\n",
    "X_val, y_val = mezclar_dataset(X_val, y_val)\n",
    "X_test, y_test = mezclar_dataset(X_test, y_test)"
   ]
  },
  {
   "cell_type": "code",
   "execution_count": null,
   "metadata": {},
   "outputs": [],
   "source": [
    "def mostrar_imagenes(X, y, n=5):\n",
    "    plt.figure(figsize=(6, 6))\n",
    "    for i in range(n**2):\n",
    "        plt.subplot(n, n, i+1)\n",
    "        plt.imshow(X[i]/255)\n",
    "        if y[i] == 0:\n",
    "            plt.title('No TUMOR', color='green', fontsize=5)\n",
    "        else:\n",
    "            plt.title('TUMOR', color='red', fontsize=5)\n",
    "        plt.axis('off')\n",
    "    plt.show()\n",
    "\n",
    "mostrar_imagenes(X_train, y_train)\n"
   ]
  },
  {
   "cell_type": "code",
   "execution_count": null,
   "metadata": {},
   "outputs": [],
   "source": [
    "from tensorflow.keras.preprocessing.image import ImageDataGenerator\n",
    "\n",
    "datagen = ImageDataGenerator(\n",
    "    rescale=1./255,             # Reescalar los valores de los pixeles\n",
    "    rotation_range=20,          # Rango de grados para rotar la imagen\n",
    "    width_shift_range=0.2,      # Rango de fracción para trasladar la imagen en horizontal\n",
    "    height_shift_range=0.2,     # Rango de fracción para trasladar la imagen en vertical\n",
    "    shear_range=0.2,            # Rango de ángulo para aplicar cizalladura\n",
    "    zoom_range=0.2,             # Rango de zoom\n",
    "    horizontal_flip=True,       # Voltea horizontalmente las imágenes\n",
    "    fill_mode='nearest'         # Estrategia de relleno para los nuevos pixeles\n",
    ")\n",
    "\n",
    "\n",
    "datagen_test_val = ImageDataGenerator(rescale=1./255)\n",
    "\n",
    "train_generator = datagen.flow(X_train, y_train, batch_size=32)\n",
    "\n",
    "val_generator = datagen_test_val.flow(X_val, y_val, batch_size=32)\n",
    "test_generator = datagen_test_val.flow(X_test, y_test, batch_size=32)"
   ]
  },
  {
   "cell_type": "markdown",
   "metadata": {},
   "source": [
    "CNN"
   ]
  },
  {
   "cell_type": "code",
   "execution_count": null,
   "metadata": {},
   "outputs": [],
   "source": [
    "def crea_modelo_cnn(input_shape=(RESOLUTION_HEIGHT, RESOLUTION_WIDTH, 1)):\n",
    "\n",
    "    model = keras.Sequential([\n",
    "        keras.layers.Conv2D(64, (3, 3), activation='relu', padding = 'same', input_shape=input_shape),\n",
    "        keras.layers.BatchNormalization(),\n",
    "        # keras.layers.Conv2D(64, (3, 3), padding = 'same', activation='relu'),\n",
    "        # keras.layers.BatchNormalization(),\n",
    "        keras.layers.MaxPooling2D((2, 2)),\n",
    "        \n",
    "        \n",
    "        keras.layers.Conv2D(128, (3, 3), padding = 'same', activation='relu'),\n",
    "        keras.layers.BatchNormalization(),\n",
    "        # keras.layers.Conv2D(128, (3, 3), padding = 'same', activation='relu'),\n",
    "        # keras.layers.BatchNormalization(),\n",
    "        keras.layers.MaxPooling2D((2, 2)),\n",
    "\n",
    "        \n",
    "        keras.layers.Conv2D(128, (3, 3), padding = 'same', activation='relu'),\n",
    "        keras.layers.BatchNormalization(),\n",
    "        # keras.layers.Conv2D(128, (3, 3), padding = 'same', activation='relu'),\n",
    "        # keras.layers.BatchNormalization(),\n",
    "        keras.layers.MaxPooling2D((3, 3), strides=2),\n",
    "        \n",
    "        keras.layers.Conv2D(256, (3, 3), padding = 'same', activation='relu'),\n",
    "        keras.layers.BatchNormalization(),\n",
    "        # keras.layers.Conv2D(256, (3, 3), padding = 'same', activation='relu'),\n",
    "        # keras.layers.BatchNormalization(),\n",
    "        keras.layers.MaxPooling2D((2, 2), strides=2),\n",
    "        \n",
    "        keras.layers.Flatten(),\n",
    "        keras.layers.Dense(128, activation='relu'),\n",
    "        keras.layers.Dropout(0.3),\n",
    "        keras.layers.Dense(64, activation='relu'),\n",
    "        keras.layers.Dropout(0.3),\n",
    "        \n",
    "        keras.layers.Dense(1, activation='sigmoid')   \n",
    "    ])\n",
    "    \n",
    "    return model\n",
    "\n",
    "model = crea_modelo_cnn()\n",
    "\n",
    "optimizer = keras.optimizers.Adam(learning_rate=0.001)\n",
    "model.compile(optimizer=optimizer, loss='binary_crossentropy', metrics=['accuracy'])\n",
    "\n",
    "early_stopping = keras.callbacks.EarlyStopping(patience=10, restore_best_weights=True)\n",
    "reduce_lr = keras.callbacks.ReduceLROnPlateau(patience=7, factor=0.2, min_lr=1e-6)\n",
    "\n",
    "model.summary()"
   ]
  },
  {
   "cell_type": "code",
   "execution_count": null,
   "metadata": {},
   "outputs": [],
   "source": [
    "history = model.fit(train_generator, \n",
    "                    epochs=200,\n",
    "                    validation_data=val_generator,\n",
    "                    #batch_size = 75,\n",
    "                    callbacks=[early_stopping, reduce_lr])\n",
    "\n",
    "#evaluar el modelo\n",
    "test_loss, test_accuracy = model.evaluate(test_generator)\n",
    "print(f'Preción con test: {round(test_accuracy*100,2)} %')"
   ]
  },
  {
   "cell_type": "code",
   "execution_count": null,
   "metadata": {},
   "outputs": [],
   "source": [
    "model.save('modelo_cnn.keras')"
   ]
  },
  {
   "cell_type": "code",
   "execution_count": null,
   "metadata": {},
   "outputs": [],
   "source": [
    "#evaluar el modelo\n",
    "test_loss, test_acc = model.evaluate(test_generator)\n",
    "print(f'Precisión con test: {round(test_acc*100,2)} %')"
   ]
  }
 ],
 "metadata": {
  "kernelspec": {
   "display_name": ".venv",
   "language": "python",
   "name": "python3"
  },
  "language_info": {
   "codemirror_mode": {
    "name": "ipython",
    "version": 3
   },
   "file_extension": ".py",
   "mimetype": "text/x-python",
   "name": "python",
   "nbconvert_exporter": "python",
   "pygments_lexer": "ipython3",
   "version": "3.11.0rc1"
  }
 },
 "nbformat": 4,
 "nbformat_minor": 2
}
